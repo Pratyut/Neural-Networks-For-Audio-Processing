{
 "metadata": {
  "name": "",
  "signature": "sha256:a79874933c3defd429e709087aa849ee41193278827cea12be4769cdf9133425"
 },
 "nbformat": 3,
 "nbformat_minor": 0,
 "worksheets": [
  {
   "cells": [
    {
     "cell_type": "markdown",
     "metadata": {},
     "source": [
      "<h1 align = 'center'> Baselines </h1>\n",
      "\n",
      "<h4 align = 'center'> Stephen Welch, February 2, 2015 </h4>\n",
      "\n",
      "- Establish performance baselines for least squares and for neural network"
     ]
    },
    {
     "cell_type": "code",
     "collapsed": false,
     "input": [
      "sys.path.append(\"nn\")\n",
      "\n",
      "#Import Custom Support Classes:\n",
      "import Layers, Networks, Training, UnitTesting, Data\n",
      "import time\n",
      "\n",
      "exampleSize = 128\n",
      "D = Data.Data(pickleName = 'taylorJan23', exampleSize=exampleSize, target = 'mic1')"
     ],
     "language": "python",
     "metadata": {},
     "outputs": [],
     "prompt_number": 1
    },
    {
     "cell_type": "markdown",
     "metadata": {},
     "source": [
      "Simple Random Sample:"
     ]
    },
    {
     "cell_type": "code",
     "collapsed": false,
     "input": [
      "numExamples=2**14\n",
      "train, test = D.simpleSample(numExamples = numExamples)\n",
      "\n",
      "(trainX, trainY) = train\n",
      "(testX, testY) = test\n",
      "\n",
      "print numExamples"
     ],
     "language": "python",
     "metadata": {},
     "outputs": [
      {
       "output_type": "stream",
       "stream": "stdout",
       "text": [
        "16384\n"
       ]
      }
     ],
     "prompt_number": 2
    },
    {
     "cell_type": "markdown",
     "metadata": {},
     "source": [
      "##Ordinary Least Squares (OLS)\n",
      "\n",
      "Cost Fuction:\n",
      "- We'll consistently use this guy to keep track of error:\n",
      "\n",
      "$$\n",
      "Cost = \\frac{\\frac{1}{2}\\sum(y-\\hat{y})^2}{m}\n",
      "$$"
     ]
    },
    {
     "cell_type": "code",
     "collapsed": false,
     "input": [
      "from sklearn import linear_model\n",
      "clf = linear_model.LinearRegression(fit_intercept=False)\n",
      "clf.fit(trainX,trainY)\n",
      "\n",
      "yHat = clf.predict(trainX)\n",
      "inSampleCost = 0.5*sum((trainY-yHat)**2)/trainX.shape[0]\n",
      "\n",
      "yHat = clf.predict(testX)\n",
      "outOfSampleCost = 0.5*sum((testY-yHat)**2)/testX.shape[0]\n",
      "\n",
      "print 'In and out of sample MSEs, as percentages:'\n",
      "print 100*inSampleCost, 100*outOfSampleCost"
     ],
     "language": "python",
     "metadata": {},
     "outputs": [
      {
       "output_type": "stream",
       "stream": "stdout",
       "text": [
        "In and out of sample MSEs, as percentages:\n",
        "0.292618118001 0.305722133026\n"
       ]
      }
     ],
     "prompt_number": 3
    },
    {
     "cell_type": "markdown",
     "metadata": {},
     "source": [
      "##Simple Neural Network"
     ]
    },
    {
     "cell_type": "code",
     "collapsed": false,
     "input": [
      "#Instantiante hyper param object:\n",
      "hP = Networks.HyperParameters(layerSizes=[exampleSize,8,1], maxIter = 200, activations=['tansig', 'linear'])\n",
      "\n",
      "#Instantiate network and unit test:\n",
      "N = Networks.One_Layer_Network(hP)\n",
      "\n",
      "#Unit test to make sure gradients are implemented correctly:\n",
      "uT = UnitTesting.UnitTesting()\n",
      "uT.testNetwork(N)"
     ],
     "language": "python",
     "metadata": {},
     "outputs": [
      {
       "output_type": "stream",
       "stream": "stdout",
       "text": [
        "Testing Network, values should by very small:\n",
        "For 1 examples: 3.97900231984e-09\n",
        "For 10 examples: 4.07306425271e-09"
       ]
      },
      {
       "output_type": "stream",
       "stream": "stdout",
       "text": [
        "\n"
       ]
      }
     ],
     "prompt_number": 4
    },
    {
     "cell_type": "code",
     "collapsed": false,
     "input": [
      "trainer = Training.trainer(N)\n",
      "trainer.train(trainX=trainX, trainY = trainY, testX=testX, testY = testY)"
     ],
     "language": "python",
     "metadata": {},
     "outputs": [
      {
       "output_type": "stream",
       "stream": "stdout",
       "text": [
        "training...\n",
        "Warning: Maximum number of iterations has been exceeded."
       ]
      },
      {
       "output_type": "stream",
       "stream": "stdout",
       "text": [
        "\n",
        "         Current function value: 47.927765\n",
        "         Iterations: 200\n",
        "         Function evaluations: 340\n",
        "         Gradient evaluations: 340\n",
        "Done! time elapsed = 12.255391s.\n"
       ]
      }
     ],
     "prompt_number": 5
    },
    {
     "cell_type": "code",
     "collapsed": false,
     "input": [
      "trainer.plot()"
     ],
     "language": "python",
     "metadata": {},
     "outputs": [
      {
       "output_type": "stream",
       "stream": "stdout",
       "text": [
        "Training MSE: 0.29253\n",
        "Testing MSE: 0.30259\n",
        "Overfit: 3.439%\n"
       ]
      },
      {
       "metadata": {},
       "output_type": "display_data",
       "png": "[encoded data removed]",
       "text": [
        "<matplotlib.figure.Figure at 0x1045e15d0>"
       ]
      }
     ],
     "prompt_number": 6
    },
    {
     "cell_type": "markdown",
     "metadata": {},
     "source": [
      "Let's hear the output of neural network and ols model:"
     ]
    },
    {
     "cell_type": "code",
     "collapsed": false,
     "input": [
      "from scikits.audiolab import wavwrite\n",
      "\n",
      "#Sample for playback (need continuous sample, random wouldn't sound so good!)\n",
      "X, y, rawPiezo = D.sampleForPlayBack(startTime=0, endTime=10)\n",
      "\n",
      "#Process with OLS Model:\n",
      "yHat = clf.predict(X)\n",
      "\n",
      "#Normalize + Export:\n",
      "yHat = yHat/amax(abs(yHat))\n",
      "wavwrite(yHat, 'exports/'+ 'OLS' + '.wav', D.Fs)\n",
      "\n",
      "#Process with Neural Network:\n",
      "yHat = N.forward(X)\n",
      "\n",
      "#Normalize + Export:\n",
      "yHat = yHat/amax(abs(yHat))\n",
      "wavwrite(yHat, 'exports/'+ 'Neural Network' + '.wav', D.Fs)\n",
      "\n",
      "#Export Piezo and target for comparison:\n",
      "y = y/amax(abs(y))\n",
      "wavwrite(y, 'exports/' + 'Target Signal' + '.wav', D.Fs)\n",
      "\n",
      "rawPiezo = rawPiezo/amax(abs(rawPiezo))\n",
      "wavwrite(rawPiezo, 'exports/' + 'rawPiezo' + '.wav', D.Fs)"
     ],
     "language": "python",
     "metadata": {},
     "outputs": [],
     "prompt_number": 8
    },
    {
     "cell_type": "code",
     "collapsed": false,
     "input": [],
     "language": "python",
     "metadata": {},
     "outputs": []
    }
   ],
   "metadata": {}
  }
 ]
}